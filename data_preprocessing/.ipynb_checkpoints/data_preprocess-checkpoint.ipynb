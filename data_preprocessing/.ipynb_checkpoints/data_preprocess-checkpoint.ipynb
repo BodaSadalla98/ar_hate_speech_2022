{
 "cells": [
  {
   "cell_type": "code",
   "execution_count": 9,
   "id": "21e2f08e-1625-46bc-906e-72b50bbb8e5e",
   "metadata": {},
   "outputs": [
    {
     "name": "stdout",
     "output_type": "stream",
     "text": [
      "Defaulting to user installation because normal site-packages is not writeable\n",
      "Requirement already satisfied: emoji in ./.local/lib/python3.8/site-packages (1.6.3)\n"
     ]
    }
   ],
   "source": [
    "# !  pip install emoji-translate spacy\n",
    "# !pip install googletrans\n",
    "# !pip install googletrans==4.0.0-rc1\n",
    "! pip install emoji\n"
   ]
  },
  {
   "cell_type": "code",
   "execution_count": 18,
   "id": "f2617452-9866-4eb7-851e-006ae166fd30",
   "metadata": {
    "tags": []
   },
   "outputs": [],
   "source": [
    "import pandas as pd\n",
    "import datasets \n",
    "from datasets import load_dataset\n",
    "from emoji_translate.emoji_translate import Translator\n",
    "import googletrans \n",
    "emo = Translator(exact_match_only=False, randomize=True)\n",
    "import re\n",
    "from emoji import UNICODE_EMOJI\n"
   ]
  },
  {
   "cell_type": "code",
   "execution_count": 41,
   "id": "81380d5b-52cb-48b7-853e-ac22d688f04e",
   "metadata": {},
   "outputs": [],
   "source": [
    "def is_emoji(s, language=\"en\"):\n",
    "    return s in UNICODE_EMOJI[language]\n",
    "\n",
    "# add space near your emoji\n",
    "def add_space(text):\n",
    "    return ''.join(' ' + char if is_emoji(char) else char for char in text).strip()"
   ]
  },
  {
   "cell_type": "code",
   "execution_count": 42,
   "id": "4196c319-b248-441d-98f9-13c6992429a3",
   "metadata": {},
   "outputs": [],
   "source": [
    "train_datset = pd.read_csv('boda/ar_hate_speech_2022/data/OSACT2022-sharedTask-train.txt', sep='\\t', header=None, index_col=0, names = ['sentence', 'OF_label','HS_label','Vulgar_label','Violence_label'])"
   ]
  },
  {
   "cell_type": "code",
   "execution_count": 43,
   "id": "f48ac318-e301-4ff3-8537-248d78171972",
   "metadata": {},
   "outputs": [],
   "source": [
    "train_dataset  = datasets.Dataset.from_pandas(train_datset)"
   ]
  },
  {
   "cell_type": "code",
   "execution_count": 44,
   "id": "29467709-9f68-4de4-aa50-34986a2a8e4f",
   "metadata": {},
   "outputs": [],
   "source": [
    "train_dataset = train_dataset.select(range(10))"
   ]
  },
  {
   "cell_type": "code",
   "execution_count": 45,
   "id": "d5dd3079-c515-47ef-a885-441d63b0cc8c",
   "metadata": {},
   "outputs": [
    {
     "data": {
      "text/plain": [
       "['@USER ردينا ع التطنز 😏👊🏻',\n",
       " 'وصارت فطاير البقالات غذاء صحي 👎🏻 URL',\n",
       " '@USER روحي لبريده تلقين اشباه كثير بس ماحد زيكم مشفوح يخقخق ويطالعهم بكل انحطاط ويصورهم الله يفشلكم بس😷',\n",
       " '@USER مش باين حاجه خالص 😣<LF>مش عارف بقى 😔',\n",
       " '#اليوم_الاثنين<LF><LF>👏 يقولك :%90  من المسلمين <LF>عندهم خاله اسمها امل<LF>👏أو عمه امل <LF>👏او اخت امل<LF>👏او زوجه امل<LF>👏او بنت امل<LF>✊او حماة امل<LF>👊واللي ماعنده ولا امل<LF>بالعائلة يراجع نفسه لانه وضعه مو طبيعي/😳<LF>وأي قروب فيه \"امل\" هو من أسعد القروبات<LF>اذا عندكم وحده اسمها امل ارسلوها لها😽😻',\n",
       " 'حمدلله ماحطها في فمي اساسا😷🤢 URL',\n",
       " '@USER هههه 😂🌚🤢',\n",
       " '#بايع_الكليجا اللي مايضحك من هالمقطع يبلكني هههههههه مطططههببللللل 😂😂😂👌👌👊👊😍😍😩😩😂😂 يمثلني ههههههه 😂😂👊 URL',\n",
       " 'خلاص الله يزعجكم خلللاص 😷😷 #بايع_الكليجا',\n",
       " '@USER هيلق و جحلط غير كذا مافي 😷']"
      ]
     },
     "execution_count": 45,
     "metadata": {},
     "output_type": "execute_result"
    }
   ],
   "source": [
    "train_dataset[:10]['sentence']"
   ]
  },
  {
   "cell_type": "code",
   "execution_count": 49,
   "id": "a4d60b85-1e4d-425d-a775-a04ef248db93",
   "metadata": {},
   "outputs": [],
   "source": [
    "translator = googletrans.Translator()\n"
   ]
  },
  {
   "cell_type": "code",
   "execution_count": 50,
   "id": "d54e9844-f87f-4624-aa08-950abdf58e70",
   "metadata": {},
   "outputs": [],
   "source": [
    "for i in re.finditer(r'/(\\u00a9|\\u00ae|[\\u2000-\\u3300]|\\ud83c[\\ud000-\\udfff]|\\ud83d[\\ud000-\\udfff]|\\ud83e[\\ud000-\\udfff])/g', ' ردينا ع التطنز 😏👊🏻'):\n",
    "    print(i)\n",
    "\n"
   ]
  },
  {
   "cell_type": "code",
   "execution_count": 68,
   "id": "bfc4952b-29b6-4c65-a516-5a42cb8e63e0",
   "metadata": {},
   "outputs": [],
   "source": [
    "def process(example):\n",
    "    \n",
    "    example['sentence'] = example['sentence'].replace('@USER', '').replace('URL', '').replace('<LF>','')\n",
    "    \n",
    "#     exp = r'(\\u00a9|\\u00ae|[\\u2000-\\u3300]|\\ud83c[\\ud000-\\udfff]|\\ud83d[\\ud000-\\udfff]|\\ud83e[\\ud000-\\udfff])'\n",
    "    \n",
    "    s = ''\n",
    "    for i,c in  enumerate(example['sentence']):\n",
    "        if is_emoji(c):\n",
    "            s+= ' ' + c + ' '\n",
    "        else:\n",
    "            s+= c\n",
    "       \n",
    "    example['sentence'] = s \n",
    "    example['sentence'] = re.sub(' +', ' ', example['sentence'])\n",
    "    \n",
    "#     example['sentence'] =  add_space(example['sentence'])\n",
    "    \n",
    "    print( example['sentence'])\n",
    "    \n",
    "    example['sentence'] = emo.demojify (example['sentence'])\n",
    "    example['sentence'] = translator.translate( example['sentence'], dest='ar').text\n",
    "    \n",
    "    print( example['sentence'])\n",
    "    \n",
    "    example['OF_label'] =  1 if example['OF_label'] == 'OFF' else 0\n",
    "    example['Vulgar_label'] =  1 if example['Vulgar_label'] == 'VLG' else 0\n",
    "    example['Violence_label'] =  1 if example['Violence_label'] == 'VIO' else 0\n",
    "    example['HS_label'] =  0 if example['HS_label'] == 'NOT_HS' else int(example['HS_label'][2:])\n",
    "    \n",
    "    return example\n",
    "    \n",
    "    \n",
    "    "
   ]
  },
  {
   "cell_type": "code",
   "execution_count": 69,
   "id": "983175a3-7078-4a21-9726-af131934a173",
   "metadata": {},
   "outputs": [
    {
     "name": "stderr",
     "output_type": "stream",
     "text": [
      "  0%|          | 0/10 [00:00<?, ?ex/s]"
     ]
    },
    {
     "name": "stdout",
     "output_type": "stream",
     "text": [
      " ردينا ع التطنز 😏 👊 🏻 \n"
     ]
    },
    {
     "name": "stderr",
     "output_type": "stream",
     "text": [
      " 10%|█         | 1/10 [00:00<00:04,  2.16ex/s]"
     ]
    },
    {
     "name": "stdout",
     "output_type": "stream",
     "text": [
      "ردينا ع التطنز smirk facepunch light skin tone\n",
      "وصارت فطاير البقالات غذاء صحي 👎 🏻 \n"
     ]
    },
    {
     "name": "stderr",
     "output_type": "stream",
     "text": [
      " 20%|██        | 2/10 [00:00<00:03,  2.59ex/s]"
     ]
    },
    {
     "name": "stdout",
     "output_type": "stream",
     "text": [
      "وصارت فطاير البقالات غذاء صحي -1 light skin tone\n",
      " روحي لبريده تلقين اشباه كثير بس ماحد زيكم مشفوح يخقخق ويطالعهم بكل انحطاط ويصورهم الله يفشلكم بس 😷 \n"
     ]
    },
    {
     "name": "stderr",
     "output_type": "stream",
     "text": [
      " 30%|███       | 3/10 [00:01<00:02,  2.67ex/s]"
     ]
    },
    {
     "name": "stdout",
     "output_type": "stream",
     "text": [
      "روحي لبريده تلقين اشباه كثير بس ماحد زيكم مشفوح يخقخق ويطالعهم بكل انحطاط ويصورهم الله يفشلكم بس mask\n",
      " مش باين حاجه خالص 😣 مش عارف بقى 😔 \n"
     ]
    },
    {
     "name": "stderr",
     "output_type": "stream",
     "text": [
      " 40%|████      | 4/10 [00:01<00:02,  2.78ex/s]"
     ]
    },
    {
     "name": "stdout",
     "output_type": "stream",
     "text": [
      "مش باين حاجه خالص persevere مش عارف بقى pensive\n",
      "#اليوم_الاثنين 👏 يقولك :%90 من المسلمين عندهم خاله اسمها امل 👏 أو عمه امل 👏 او اخت امل 👏 او زوجه امل 👏 او بنت امل ✊ او حماة امل 👊 واللي ماعنده ولا املبالعائلة يراجع نفسه لانه وضعه مو طبيعي/ 😳 وأي قروب فيه \"امل\" هو من أسعد القروباتاذا عندكم وحده اسمها امل ارسلوها لها 😽 😻 \n"
     ]
    },
    {
     "name": "stderr",
     "output_type": "stream",
     "text": [
      " 50%|█████     | 5/10 [00:01<00:01,  2.79ex/s]"
     ]
    },
    {
     "name": "stdout",
     "output_type": "stream",
     "text": [
      "#اليوم_الاثنين clap يقولك :%90 من المسلمين عندهم خاله اسمها امل clap أو عمه امل clap او اخت امل clap او زوجه امل clap او بنت امل fist او حماة امل facepunch واللي ماعنده ولا املبالعائلة يراجع نفسه لانه وضعه مو طبيعي/ flushed وأي قروب فيه \"امل\" هو من أسعد القروباتاذا عندكم وحده اسمها امل ارسلوها لها kissing cat heart eyes cat\n",
      "حمدلله ماحطها في فمي اساسا 😷 🤢 \n"
     ]
    },
    {
     "name": "stderr",
     "output_type": "stream",
     "text": [
      " 60%|██████    | 6/10 [00:02<00:01,  2.85ex/s]"
     ]
    },
    {
     "name": "stdout",
     "output_type": "stream",
     "text": [
      "حمدلله ماحطها في فمي اساسا mask nauseated face\n",
      " هههه 😂 🌚 🤢 \n"
     ]
    },
    {
     "name": "stderr",
     "output_type": "stream",
     "text": [
      " 70%|███████   | 7/10 [00:03<00:01,  1.88ex/s]"
     ]
    },
    {
     "name": "stdout",
     "output_type": "stream",
     "text": [
      "هههه Joy New Moon مع الوجه الغثيان\n",
      "#بايع_الكليجا اللي مايضحك من هالمقطع يبلكني هههههههه مطططههببللللل 😂 😂 😂 👌 👌 👊 👊 😍 😍 😩 😩 😂 😂 يمثلني ههههههه 😂 😂 👊 \n"
     ]
    },
    {
     "name": "stderr",
     "output_type": "stream",
     "text": [
      " 80%|████████  | 8/10 [00:03<00:00,  2.10ex/s]"
     ]
    },
    {
     "name": "stdout",
     "output_type": "stream",
     "text": [
      "#بايع_الكليجا اللي مايضحك من هالمقطع يبلكني هههههههه مطططههببللللل joy joy joy ok hand ok hand facepunch facepunch heart eyes heart eyes weary weary joy joy يمثلني ههههههه joy joy facepunch\n",
      "خلاص الله يزعجكم خلللاص 😷 😷 #بايع_الكليجا\n"
     ]
    },
    {
     "name": "stderr",
     "output_type": "stream",
     "text": [
      " 90%|█████████ | 9/10 [00:03<00:00,  2.27ex/s]"
     ]
    },
    {
     "name": "stdout",
     "output_type": "stream",
     "text": [
      "خلاص الله يزعجك خلاص mask mask #بايع_الكليجا\n",
      " هيلق و جحلط غير كذا مافي 😷 \n"
     ]
    },
    {
     "name": "stderr",
     "output_type": "stream",
     "text": [
      "100%|██████████| 10/10 [00:04<00:00,  2.41ex/s]"
     ]
    },
    {
     "name": "stdout",
     "output_type": "stream",
     "text": [
      "هيلق و جحلط غير كذا مافي mask\n"
     ]
    },
    {
     "name": "stderr",
     "output_type": "stream",
     "text": [
      "\n"
     ]
    }
   ],
   "source": [
    "processed_dataset = train_dataset.map(process,num_proc=1)"
   ]
  },
  {
   "cell_type": "code",
   "execution_count": null,
   "id": "79412fb2-89c8-48bd-ad5b-686c8bf66013",
   "metadata": {},
   "outputs": [],
   "source": [
    "processed_dataset[:5]"
   ]
  },
  {
   "cell_type": "code",
   "execution_count": null,
   "id": "07d9ddd5-c15f-478c-b54f-123c661b95ef",
   "metadata": {},
   "outputs": [],
   "source": []
  }
 ],
 "metadata": {
  "kernelspec": {
   "display_name": "ar_hate_speech",
   "language": "python",
   "name": "jupyter-eg-kernel-slurm-py37-condatest-1frh8oglo"
  },
  "language_info": {
   "codemirror_mode": {
    "name": "ipython",
    "version": 3
   },
   "file_extension": ".py",
   "mimetype": "text/x-python",
   "name": "python",
   "nbconvert_exporter": "python",
   "pygments_lexer": "ipython3",
   "version": "3.8.6"
  }
 },
 "nbformat": 4,
 "nbformat_minor": 5
}
